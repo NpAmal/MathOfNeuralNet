{
 "cells": [
  {
   "cell_type": "markdown",
   "metadata": {},
   "source": [
    "#                                            Math of Neural Net"
   ]
  },
  {
   "cell_type": "markdown",
   "metadata": {},
   "source": [
    "## Dependencies : numpy"
   ]
  },
  {
   "cell_type": "code",
   "execution_count": 1,
   "metadata": {},
   "outputs": [],
   "source": [
    "import numpy as np"
   ]
  },
  {
   "cell_type": "markdown",
   "metadata": {},
   "source": [
    "## Data"
   ]
  },
  {
   "cell_type": "code",
   "execution_count": 2,
   "metadata": {},
   "outputs": [],
   "source": [
    "#Input\n",
    "x=np.array([[0,0,0],\n",
    "          [0,0,1],\n",
    "          [0,1,0],\n",
    "          [0,1,1],\n",
    "          [1,0,0],\n",
    "          [1,0,1],\n",
    "          [1,1,0],\n",
    "          [1,1,1]])\n",
    "\n",
    "#Output\n",
    "y=np.array([[0],\n",
    "           [1],\n",
    "           [1],\n",
    "           [0],\n",
    "           [1],\n",
    "           [0],\n",
    "           [0],\n",
    "           [1]])"
   ]
  },
  {
   "cell_type": "code",
   "execution_count": 3,
   "metadata": {},
   "outputs": [
    {
     "name": "stdout",
     "output_type": "stream",
     "text": [
      "(8, 3)\n",
      "(8, 1)\n"
     ]
    }
   ],
   "source": [
    "print(x.shape)\n",
    "print(y.shape)"
   ]
  },
  {
   "cell_type": "markdown",
   "metadata": {},
   "source": [
    "## Designing a Model"
   ]
  },
  {
   "cell_type": "code",
   "execution_count": 4,
   "metadata": {},
   "outputs": [
    {
     "name": "stdout",
     "output_type": "stream",
     "text": [
      "(3, 8)\n",
      "(8, 1)\n"
     ]
    }
   ],
   "source": [
    "#Number of epochs\n",
    "n_epochs=6000\n",
    "\n",
    "#Initial weights\n",
    "s1=2*np.random.random((3,8))-1\n",
    "s2=2*np.random.random((8,1))-1\n",
    "print(s1.shape)\n",
    "print(s2.shape)"
   ]
  },
  {
   "cell_type": "code",
   "execution_count": 5,
   "metadata": {},
   "outputs": [],
   "source": [
    "#Activation Function - Sigmoid\n",
    "def activ_func(x,deriv=False):\n",
    "    if deriv==True:\n",
    "        return x*(1-x)\n",
    "    return 1/((1+np.exp(-x)))"
   ]
  },
  {
   "cell_type": "markdown",
   "metadata": {},
   "source": [
    "## Training the model"
   ]
  },
  {
   "cell_type": "code",
   "execution_count": 6,
   "metadata": {},
   "outputs": [
    {
     "name": "stdout",
     "output_type": "stream",
     "text": [
      "Error:0.4995875690550647\n",
      "Error:0.04149182906043687\n",
      "Error:0.02515213582647504\n",
      "Error:0.019443984803698106\n",
      "Error:0.016338883259109538\n",
      "Error:0.014325124070637242\n",
      "Error:0.012887337479396813\n",
      "Error:0.011796286507364232\n",
      "Error:0.010932704474687697\n",
      "Error:0.010227697144295353\n"
     ]
    }
   ],
   "source": [
    "for j in range(10000):\n",
    "    #Forward Propagation through layers\n",
    "    l0 = x\n",
    "    l1 = activ_func(np.dot(l0, s1))\n",
    "    l2 = activ_func(np.dot(l1, s2))\n",
    "    \n",
    "    l2_error = y - l2\n",
    "    \n",
    "    if (j% 1000) == 0:\n",
    "        print(\"Error:\" + str(np.mean(np.abs(l2_error))))\n",
    "    \n",
    "    #Direction of slope to the target value y\n",
    "    l2_delta = l2_error*activ_func(l2, deriv=True)\n",
    "    \n",
    "    #l1's contribution to l2 error\n",
    "    l1_error = l2_delta.dot(s2.T)\n",
    "    \n",
    "    l1_delta= l1_error * activ_func(l1,deriv=True)\n",
    "    \n",
    "    s2 += l1.T.dot(l2_delta)\n",
    "    s1 += l0.T.dot(l1_delta)"
   ]
  }
 ],
 "metadata": {
  "kernelspec": {
   "display_name": "Python 3",
   "language": "python",
   "name": "python3"
  },
  "language_info": {
   "codemirror_mode": {
    "name": "ipython",
    "version": 3
   },
   "file_extension": ".py",
   "mimetype": "text/x-python",
   "name": "python",
   "nbconvert_exporter": "python",
   "pygments_lexer": "ipython3",
   "version": "3.6.4"
  }
 },
 "nbformat": 4,
 "nbformat_minor": 2
}
